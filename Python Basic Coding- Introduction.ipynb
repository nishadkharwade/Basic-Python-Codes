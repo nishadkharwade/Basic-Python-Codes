{
 "cells": [
  {
   "cell_type": "markdown",
   "metadata": {},
   "source": [
    "## Basic Python Coding"
   ]
  },
  {
   "cell_type": "markdown",
   "metadata": {},
   "source": [
    "### Hello World"
   ]
  },
  {
   "cell_type": "code",
   "execution_count": 1,
   "metadata": {},
   "outputs": [],
   "source": [
    "##input= input(\"Write Something : \")\n",
    "#print(input)"
   ]
  },
  {
   "cell_type": "markdown",
   "metadata": {},
   "source": [
    "###### Boolean Operation"
   ]
  },
  {
   "cell_type": "code",
   "execution_count": 2,
   "metadata": {},
   "outputs": [
    {
     "data": {
      "text/plain": [
       "False"
      ]
     },
     "execution_count": 2,
     "metadata": {},
     "output_type": "execute_result"
    }
   ],
   "source": [
    "a=25\n",
    "b=10\n",
    "a==b"
   ]
  },
  {
   "cell_type": "code",
   "execution_count": 3,
   "metadata": {
    "scrolled": true
   },
   "outputs": [
    {
     "data": {
      "text/plain": [
       "True"
      ]
     },
     "execution_count": 3,
     "metadata": {},
     "output_type": "execute_result"
    }
   ],
   "source": [
    "a!=b"
   ]
  },
  {
   "cell_type": "code",
   "execution_count": null,
   "metadata": {},
   "outputs": [],
   "source": []
  },
  {
   "cell_type": "markdown",
   "metadata": {},
   "source": [
    "### Basic Coding"
   ]
  },
  {
   "cell_type": "code",
   "execution_count": 25,
   "metadata": {},
   "outputs": [
    {
     "name": "stdout",
     "output_type": "stream",
     "text": [
      "4.6\n"
     ]
    }
   ],
   "source": [
    "list=[1,2,4,5,4,7]\n",
    "avrage=sum(list)/n\n",
    "print(avrage)"
   ]
  },
  {
   "cell_type": "markdown",
   "metadata": {},
   "source": [
    "#### If Elase Elif"
   ]
  },
  {
   "cell_type": "code",
   "execution_count": 4,
   "metadata": {},
   "outputs": [
    {
     "name": "stdout",
     "output_type": "stream",
     "text": [
      "enter the number55\n",
      "number is odd\n"
     ]
    }
   ],
   "source": [
    "## Even Number Odd Number\\\n",
    "\n",
    "number=int(input(\"enter the number\"))\n",
    "if (number%2==1):\n",
    "    print (\"number is odd\")\n",
    "else:\n",
    "    print(\"number is even\")"
   ]
  },
  {
   "cell_type": "code",
   "execution_count": 5,
   "metadata": {},
   "outputs": [
    {
     "name": "stdout",
     "output_type": "stream",
     "text": [
      "enter the number55\n",
      "positive\n"
     ]
    }
   ],
   "source": [
    "# Positive Number Negative Number\n",
    "\n",
    "n=int(input(\"enter the number\"))\n",
    "if n>0:\n",
    "    print(\"positive\")\n",
    "elif n<0:\n",
    "    print(\"negative\")\n",
    "else:\n",
    "    print(\"zero\")"
   ]
  },
  {
   "cell_type": "code",
   "execution_count": 6,
   "metadata": {},
   "outputs": [
    {
     "name": "stdout",
     "output_type": "stream",
     "text": [
      "c is greater\n"
     ]
    }
   ],
   "source": [
    "# Greater Number\n",
    "\n",
    "a=5\n",
    "b=6\n",
    "c=7\n",
    "if(a>b & a>c):\n",
    "    print(\"a is greater\")\n",
    "elif(b>a & b>c):\n",
    "    print(\"b is greater\")\n",
    "else:\n",
    "    print(\"c is greater\")"
   ]
  },
  {
   "cell_type": "code",
   "execution_count": 7,
   "metadata": {},
   "outputs": [
    {
     "name": "stdout",
     "output_type": "stream",
     "text": [
      "number 1 : 55\n",
      "number 2 : 44\n",
      "220\n"
     ]
    }
   ],
   "source": [
    "## LCM \n",
    "\n",
    "input1=int(input(\"number 1 : \" ))\n",
    "input2=int(input(\"number 2 : \" ))\n",
    "if input1>input2:\n",
    "    greater=input1\n",
    "else:\n",
    "    greater=input2\n",
    "while (1):\n",
    "    if (greater%input1==0 and greater%input2==0):\n",
    "        print(greater)\n",
    "        break\n",
    "    greater+=1"
   ]
  },
  {
   "cell_type": "code",
   "execution_count": 8,
   "metadata": {},
   "outputs": [
    {
     "name": "stdout",
     "output_type": "stream",
     "text": [
      "enter the input45\n",
      "0\n"
     ]
    }
   ],
   "source": [
    "sentence=str(input(\"enter the input\"))\n",
    "count=0\n",
    "sentence.lower()\n",
    "vowel=('a','e','i','o','u')\n",
    "for words in sentence.lower():\n",
    "    if words in vowel:\n",
    "        count+=1\n",
    "print(count)"
   ]
  },
  {
   "cell_type": "code",
   "execution_count": 9,
   "metadata": {},
   "outputs": [
    {
     "name": "stdout",
     "output_type": "stream",
     "text": [
      "enter the words : Hello World\n",
      "['Hello', 'World']\n",
      "{'Hello': 1, 'World': 1}\n"
     ]
    }
   ],
   "source": [
    "sent = str(input(\"enter the words : \"))\n",
    "dict1={}\n",
    "sent.split()\n",
    "print(sent.split())\n",
    "\n",
    "for x in sent.split():\n",
    "    if x not in dict1:\n",
    "        dict1[x]=1\n",
    "    else:\n",
    "        dict1[x]+=1\n",
    "print(dict1)"
   ]
  },
  {
   "cell_type": "code",
   "execution_count": 10,
   "metadata": {},
   "outputs": [
    {
     "name": "stdout",
     "output_type": "stream",
     "text": [
      "enter number121212\n",
      "number is not pallindrome\n"
     ]
    }
   ],
   "source": [
    "n=int(input(\"enter number\"))\n",
    "i=n\n",
    "reverse=0\n",
    "lastdigit=0\n",
    "while(n>0):\n",
    "    lastdigit=n%10\n",
    "    reverse=reverse*10+lastdigit\n",
    "    n=n//10\n",
    "if (i==reverse):\n",
    "    print(\"number is pallindrome\")\n",
    "else:\n",
    "    print(\"number is not pallindrome\")"
   ]
  },
  {
   "cell_type": "code",
   "execution_count": 11,
   "metadata": {},
   "outputs": [
    {
     "name": "stdout",
     "output_type": "stream",
     "text": [
      "enter the number2545\n",
      "number is not prime number\n"
     ]
    }
   ],
   "source": [
    "\n",
    "n= int(input(\"enter the number\"))\n",
    "if (n>1):\n",
    "    for i in range(2,n):\n",
    "        if(n%i==0):\n",
    "            print(\"number is not prime number\")\n",
    "            break\n",
    "    else:\n",
    "        print(\"number is prime number\")\n",
    "else:\n",
    "    print(\"number is not prime number\")\n",
    "    "
   ]
  },
  {
   "cell_type": "code",
   "execution_count": null,
   "metadata": {},
   "outputs": [],
   "source": [
    "name= input(\"student name : \")\n",
    "mathsmarks= int(input(\"enter maths marks : \"))\n",
    "sciencemarks= int(input(\"enter science marks : \"))\n",
    "englishmarks= int(input(\"enter english marks : \"))\n",
    "computermarks= int(input(\"enter computer marks : \"))\n",
    "gkmarks= int(input(\"enter gk marks : \"))\n",
    "total=(mathsmarks+sciencemarks+englishmarks+computermarks+gkmarks)\n",
    "percentage=(total/500)*100\n",
    "print(name, \",your total mark is\", total,\"and your percentage is\", percentage)\n",
    "if(percentage>=90):\n",
    "    print(\"Grade: A\")\n",
    "elif(percentage>=80<percentage<90):\n",
    "    print(\"Grade: B\")\n",
    "elif(percentage>=70<percentage<80):\n",
    "    print(\"Grade: C\")\n",
    "elif(percentage>=60<percentage<70):\n",
    "    print(\"Grade: D\")\n",
    "else:\n",
    "    print(\"Grade: F\")"
   ]
  },
  {
   "cell_type": "code",
   "execution_count": 23,
   "metadata": {},
   "outputs": [
    {
     "name": "stdout",
     "output_type": "stream",
     "text": [
      "enter the length in centemeter : 5\n",
      "5 centimeter =  12.7 inch\n"
     ]
    }
   ],
   "source": [
    "cent=int(input(\"enter the length in centemeter : \"))\n",
    "inch=2.54*cent\n",
    "if cent<0:\n",
    "    print (\"enter the valid value\")\n",
    "else:\n",
    "    print(cent,\"centimeter = \",inch,\"inch\")"
   ]
  },
  {
   "cell_type": "markdown",
   "metadata": {},
   "source": [
    "## Pattern Code Mostly ask in interview"
   ]
  },
  {
   "cell_type": "markdown",
   "metadata": {},
   "source": [
    "#### If Elase Elif & For and While Loop"
   ]
  },
  {
   "cell_type": "code",
   "execution_count": 13,
   "metadata": {},
   "outputs": [
    {
     "name": "stdout",
     "output_type": "stream",
     "text": [
      "enter the dimentions of the identity matrix5\n",
      "1 0 0 0 0 \n",
      "0 1 0 0 0 \n",
      "0 0 1 0 0 \n",
      "0 0 0 1 0 \n",
      "0 0 0 0 1 \n"
     ]
    }
   ],
   "source": [
    "#identity matrices \n",
    "n= int(input(\"enter the dimentions of the identity matrix\"))\n",
    "for i in range(0,n):\n",
    "    for j in range (0,n):\n",
    "        if(i==j):\n",
    "            print(\"1\", end =\" \")\n",
    "        else:\n",
    "            print(0, end= \" \")\n",
    "    print()"
   ]
  },
  {
   "cell_type": "code",
   "execution_count": 18,
   "metadata": {},
   "outputs": [
    {
     "name": "stdout",
     "output_type": "stream",
     "text": [
      "enter the dimentions of the identity matrix5\n",
      "1 \n",
      "1 2 \n",
      "1 2 3 \n",
      "1 2 3 4 \n",
      "1 2 3 4 5 \n"
     ]
    }
   ],
   "source": [
    "n=int(input(\"enter the dimentions of the identity matrix\"))\n",
    "for i in range(1,n+1):\n",
    "    for j in range (1,i+1):\n",
    "            print(j, end= \" \")\n",
    "    print()"
   ]
  },
  {
   "cell_type": "code",
   "execution_count": 19,
   "metadata": {},
   "outputs": [
    {
     "name": "stdout",
     "output_type": "stream",
     "text": [
      "enter the dimentions of the identity matrix5\n",
      "\n",
      "1 \n",
      "2 1 \n",
      "3 2 1 \n",
      "4 3 2 1 \n",
      "5 4 3 2 1 \n"
     ]
    }
   ],
   "source": [
    "n=int(input(\"enter the dimentions of the identity matrix\"))\n",
    "for i in range(0,n+1):\n",
    "    for j in range (i,0,-1):\n",
    "            print(j, end= \" \")\n",
    "    print()"
   ]
  },
  {
   "cell_type": "code",
   "execution_count": 20,
   "metadata": {},
   "outputs": [
    {
     "name": "stdout",
     "output_type": "stream",
     "text": [
      "enter the number5\n",
      "1 \n",
      "2 3 \n",
      "4 5 6 \n",
      "7 8 9 10 \n",
      "11 12 13 14 15 \n"
     ]
    }
   ],
   "source": [
    "size=int(input(\"enter the number\"))\n",
    "x=0\n",
    "for i in range(1,size+1):\n",
    "    for j in range(1,i+1):\n",
    "        x=x+1\n",
    "        print(x, end= \" \")\n",
    "    print()"
   ]
  },
  {
   "cell_type": "code",
   "execution_count": 17,
   "metadata": {},
   "outputs": [
    {
     "name": "stdout",
     "output_type": "stream",
     "text": [
      "enter the dimentions of the identity matrix5\n",
      "1 \n",
      "2 2 \n",
      "3 3 3 \n",
      "4 4 4 4 \n",
      "5 5 5 5 5 \n"
     ]
    }
   ],
   "source": [
    "n=int(input(\"enter the dimentions of the identity matrix\"))\n",
    "for i in range(1,n+1):\n",
    "    for j in range (1,i+1):\n",
    "            print(i, end= \" \")\n",
    "    print()"
   ]
  },
  {
   "cell_type": "code",
   "execution_count": 14,
   "metadata": {},
   "outputs": [
    {
     "name": "stdout",
     "output_type": "stream",
     "text": [
      "enter the dimentions of the identity matrix5\n",
      "*         \n",
      "* *       \n",
      "* * *     \n",
      "* * * *   \n",
      "* * * * * \n"
     ]
    }
   ],
   "source": [
    "n= int(input(\"enter the dimentions of the identity matrix\"))\n",
    "for i in range(0,n):\n",
    "    for j in range (0,n):\n",
    "        if(i>=j):\n",
    "            print(\"*\" , end = \" \")\n",
    "        else:\n",
    "            print(\" \", end= \" \")\n",
    "    print()"
   ]
  },
  {
   "cell_type": "code",
   "execution_count": 15,
   "metadata": {},
   "outputs": [
    {
     "name": "stdout",
     "output_type": "stream",
     "text": [
      "enter the dimentions of the identity matrix5\n",
      "* * * * * \n",
      "  * * * * \n",
      "    * * * \n",
      "      * * \n",
      "        * \n"
     ]
    }
   ],
   "source": [
    "n= int(input(\"enter the dimentions of the identity matrix\"))\n",
    "for i in range(0,n):\n",
    "    for j in range (0,n):\n",
    "        if(i<=j):\n",
    "            print(\"*\" , end = \" \")\n",
    "        else:\n",
    "            print(\" \", end= \" \")\n",
    "    print()"
   ]
  },
  {
   "cell_type": "code",
   "execution_count": null,
   "metadata": {},
   "outputs": [],
   "source": [
    "size=int(input(\"enter the number\"))\n",
    "for i in range (0,size):\n",
    "    for j in range(0,size-i-1):\n",
    "        print(end=\" \")\n",
    "    for k in range(0,i+1):\n",
    "        print(\"*\",end=\"+\")\n",
    "    print()"
   ]
  },
  {
   "cell_type": "code",
   "execution_count": 21,
   "metadata": {},
   "outputs": [
    {
     "name": "stdout",
     "output_type": "stream",
     "text": [
      "enter the dimentions of the identity matrix5\n",
      "          \n",
      "*         \n",
      "* *       \n",
      "* * *     \n",
      "* * * *   \n",
      "* * * * *   \n",
      "* * * *   \n",
      "* * *   \n",
      "* *   \n",
      "*   \n",
      "  \n"
     ]
    }
   ],
   "source": [
    "n= int(input(\"enter the dimentions of the identity matrix\"))\n",
    "for i in range(0,n):\n",
    "    for j in range (0,n):\n",
    "        if(i<=j):\n",
    "            print(\" \" , end = \" \")\n",
    "        else:\n",
    "            print(\"*\", end= \" \")\n",
    "    print()\n",
    "for i in range(0,n+1):\n",
    "    for j in range (i,n):\n",
    "            print(\"*\" , end = \" \")\n",
    "    else:\n",
    "            print(\" \", end= \" \")\n",
    "    print()"
   ]
  },
  {
   "cell_type": "code",
   "execution_count": 22,
   "metadata": {},
   "outputs": [
    {
     "name": "stdout",
     "output_type": "stream",
     "text": [
      "enter the number5\n",
      "      \n",
      "    *  \n",
      "   * *  \n",
      "  * * *  \n",
      " * * * *  \n",
      "* * * * *  \n",
      " * * * *  \n",
      "  * * *  \n",
      "   * *  \n",
      "    *  \n"
     ]
    }
   ],
   "source": [
    "size=int(input(\"enter the number\"))\n",
    "for i in range (0,size):\n",
    "    for j in range(0,size-i):\n",
    "        print(end=\" \")\n",
    "    for k in range(0,i):\n",
    "        print(\"*\",end=\" \")\n",
    "    print(\" \")\n",
    "for i in range (size,0,-1):\n",
    "    for j in range(size-i,0,-1):\n",
    "        #print(\"*\",end=\" \")\n",
    "        print(' ', end='')\n",
    "    for k in range(i,0,-1):\n",
    "        print('* ', end='')\n",
    "        #print(\" \",end=\" \")\n",
    "    print(\" \")        \n",
    "   "
   ]
  },
  {
   "cell_type": "code",
   "execution_count": 24,
   "metadata": {},
   "outputs": [
    {
     "name": "stdout",
     "output_type": "stream",
     "text": [
      "enter number5\n",
      "120\n"
     ]
    }
   ],
   "source": [
    "n=int(input(\"enter number\"))\n",
    "fact=1\n",
    "for i in range(n,1,-1):\n",
    "    fact=fact*i\n",
    "print(fact)"
   ]
  },
  {
   "cell_type": "code",
   "execution_count": 26,
   "metadata": {},
   "outputs": [
    {
     "name": "stdout",
     "output_type": "stream",
     "text": [
      "enter current time= 5\n",
      "Press n1.For AM and n2.For pm5\n",
      "how many hours ahead5\n",
      "10 PM\n"
     ]
    }
   ],
   "source": [
    "## Adding Time\n",
    "\n",
    "now=int(input(\"enter current time= \"))\n",
    "ampm=int(input(\"Press n1.For AM and n2.For pm\"))\n",
    "ahead=int(input(\"how many hours ahead\"))\n",
    "if ampm==1:\n",
    "    future=(now+ahead)\n",
    "    if future<12:\n",
    "        print (future, \"AM\")\n",
    "    else:\n",
    "        future1=future-12\n",
    "        print(future1, \"PM\")\n",
    "else:\n",
    "    future=(now+ahead)\n",
    "    if future<12:\n",
    "        print (future, \"PM\")\n",
    "    else:\n",
    "        future1=future-12\n",
    "        print(future, \"AM\")"
   ]
  },
  {
   "cell_type": "code",
   "execution_count": 27,
   "metadata": {},
   "outputs": [
    {
     "name": "stdout",
     "output_type": "stream",
     "text": [
      "n1.ROCK\\ n2.PAPER\\ n3.SCISSOR1\n",
      "PAPER\n",
      "n1.ROCK\\ n2.PAPER\\ n3.SCISSOR2\n",
      "SCISSOR\n",
      "n1.ROCK\\ n2.PAPER\\ n3.SCISSOR1\n",
      "ROCK\n",
      "n1.ROCK\\ n2.PAPER\\ n3.SCISSOR1\n",
      "SCISSOR\n",
      "n1.ROCK\\ n2.PAPER\\ n3.SCISSOR1\n",
      "SCISSOR\n",
      "computer is won\n"
     ]
    }
   ],
   "source": [
    "## Rock Paper Scissor Game\n",
    "\n",
    "c=['ROCK','PAPER','SCISSOR']\n",
    "import random\n",
    "for i in range(5):\n",
    "    user=int(input(\"n1.ROCK\\ n2.PAPER\\ n3.SCISSOR\"))\n",
    "    computer=random.choice(c)\n",
    "    print(random.choice(c))\n",
    "    compcount=1\n",
    "    usercount=1\n",
    "    if user==1:\n",
    "        if computer=='ROCK':\n",
    "            compcount+=1\n",
    "            usercount+=1 \n",
    "        elif computer=='PAPER':\n",
    "            compcount+=1\n",
    "        else:\n",
    "            usercount+=1\n",
    "    elif user==2:\n",
    "        if computer=='ROCK':\n",
    "            usercount+=1 \n",
    "        elif computer=='PAPER':\n",
    "            compcount+=1\n",
    "            usercount+=1\n",
    "        else:\n",
    "            compcount+=1\n",
    "    else:\n",
    "        if computer=='ROCK':\n",
    "            compcount+=1 \n",
    "        elif computer=='PAPER':\n",
    "            usercount+=1\n",
    "        else:\n",
    "            compcount+=1\n",
    "            usercount+=1\n",
    "if usercount>compcount:\n",
    "    print(\"user is won\")\n",
    "elif compcount>usercount:\n",
    "    print(\"computer is won\")\n",
    "else:\n",
    "    print(\"match is draw\")\n",
    "       "
   ]
  },
  {
   "cell_type": "markdown",
   "metadata": {},
   "source": [
    "### Problem 1:\n",
    "\n",
    "1. Write a program to calculate area of shapes. Your program should be capable of calculating the area of a square, rectangle, triangle and a circle. The user should be presented with options to select the shape. Based on which shape is chosed by the user, the program should ask for the appropriate input and print the resulting area on the screen.\n",
    "\n",
    "When the program is run, the screen should display something like this:\n",
    "\n",
    "**Which shape would you like to calculate the area for? Please enter the option number-**<br>\n",
    "**1. Square**<br>\n",
    "**2. Rectangle**<br>\n",
    "**3. Triangle**<br>\n",
    "**4. Circle**<br>\n",
    "**Enter Option: _**\n",
    "\n",
    "Say the user enters the option 1.\n",
    "\n",
    "**Please enter the length of a side: _**\n",
    "\n",
    "If the user enters a value of 5. The output should be:\n",
    "\n",
    "**The area of the square is 25**\n",
    "\n",
    "This program should indicate that the input is invalid if the user enters a character instead of a number as input. For instance if the user enters a value of ‘a’ instead of 5 in the previous example the program should prompt:\n",
    "\n",
    "**Invalid input, please enter a number: _**\n"
   ]
  },
  {
   "cell_type": "code",
   "execution_count": null,
   "metadata": {},
   "outputs": [],
   "source": [
    "def squreA(side):\n",
    "    squreA1=(side*side)\n",
    "    return squreA1\n",
    "\n",
    "def reactangleA(side1,side2):\n",
    "    if side1!=side2:\n",
    "        reactangleA1=(side1*side2)\n",
    "        return reactangleA1\n",
    "\n",
    "def triangleA(base,height):\n",
    "    triangleA1=(0.5*base*height)\n",
    "    return triangleA1\n",
    "\n",
    "def circleA(radius):\n",
    "    circleA1=(3.14*radius*radius)\n",
    "    return circleA1\n",
    "\n",
    "\n",
    "\n",
    "Area= int(input(\"Which shape would you like to calculate the area for? Please enter the option number- \\\n",
    "            \\n1.Square\\\n",
    "            \\n2.Reactangle\\\n",
    "            \\n3.triangle\\\n",
    "            \\n4. Circle\\\n",
    "            \\>>>\"))\n",
    "if (Area==1):\n",
    "    side=int(input(\"enter the side length :\"))\n",
    "    squreA(side)\n",
    "    print(\"area of the squre is : \", squreA(side))\n",
    "elif (Area==2):\n",
    "    side1=int(input(\"enter the side1 length :\"))\n",
    "    side2=int(input(\"enter the side2 length :\"))\n",
    "    reactangleA(side1,side2)\n",
    "    print(\"area of the reactangle is : \", reactangleA(side1,side2))\n",
    "elif (Area==3):\n",
    "    base=int(input(\"enter the base length :\"))\n",
    "    height=int(input(\"enter the height :\"))\n",
    "    triangleA(base,height)\n",
    "    print(\"area of the triangle is : \", triangleA(base,height))\n",
    "elif (Area==4):\n",
    "    radius=int(input(\"enter the radius :\"))\n",
    "    circleA(radius)\n",
    "    print(\"area of the circle is : \", circleA(radius))\n",
    "else:\n",
    "    print(\"invild input!!!, Plaese enter valid input\")"
   ]
  },
  {
   "cell_type": "markdown",
   "metadata": {},
   "source": [
    "### Problem 1:\n",
    "\n",
    "1. Write a program to calculate area of shapes. Your program should be capable of calculating the area of a square, rectangle, triangle and a circle. The user should be presented with options to select the shape. Based on which shape is chosed by the user, the program should ask for the appropriate input and print the resulting area on the screen.\n",
    "\n",
    "When the program is run, the screen should display something like this:\n",
    "\n",
    "**Which shape would you like to calculate the area for? Please enter the option number-**<br>\n",
    "**1. Square**<br>\n",
    "**2. Rectangle**<br>\n",
    "**3. Triangle**<br>\n",
    "**4. Circle**<br>\n",
    "**Enter Option: _**\n",
    "\n",
    "Say the user enters the option 1.\n",
    "\n",
    "**Please enter the length of a side: _**\n",
    "\n",
    "If the user enters a value of 5. The output should be:\n",
    "\n",
    "**The area of the square is 25**\n",
    "\n",
    "This program should indicate that the input is invalid if the user enters a character instead of a number as input. For instance if the user enters a value of ‘a’ instead of 5 in the previous example the program should prompt:\n",
    "\n",
    "**Invalid input, please enter a number: _**\n"
   ]
  },
  {
   "cell_type": "code",
   "execution_count": null,
   "metadata": {},
   "outputs": [],
   "source": [
    "def encrypt_function(strx,num):\n",
    "    \n",
    "    x= [ord(x)+num if ord(x)+num<=122 else ord(x)+num-26 for x in strx ]\n",
    "    y= [chr(y) for y in x]\n",
    "    z=''.join(y)\n",
    "    print('encrypted code = ',z)\n",
    "\n",
    "def decrypt_function(strx,num):\n",
    "    \n",
    "    x= [ord(x)-num if ord(x)-num>=97 else ord(x)-num+26 for x in strx ]\n",
    "    y= [chr(y) for y in x]\n",
    "    z=''.join(y)\n",
    "    print('the orignal code was = ',z)\n",
    "\n",
    "choice=int(input('enter 1 to encrypt and 2 to decrypt '))\n",
    "if choice == 1:\n",
    "    strx=input('enter word for encrypting ')\n",
    "    num=int(input('enter key for encryption '))\n",
    "    encrypt_function(strx,num)\n",
    "    \n",
    "elif choice == 2:\n",
    "    strx=input('enter word for decrypting ')\n",
    "    num=int(input('enter key for decryption '))\n",
    "    decrypt_function(strx,num)\n",
    "    \n",
    "    \n",
    "else:\n",
    "    print('enter valid choice')"
   ]
  }
 ],
 "metadata": {
  "kernelspec": {
   "display_name": "Python 3",
   "language": "python",
   "name": "python3"
  },
  "language_info": {
   "codemirror_mode": {
    "name": "ipython",
    "version": 3
   },
   "file_extension": ".py",
   "mimetype": "text/x-python",
   "name": "python",
   "nbconvert_exporter": "python",
   "pygments_lexer": "ipython3",
   "version": "3.7.4"
  }
 },
 "nbformat": 4,
 "nbformat_minor": 2
}
